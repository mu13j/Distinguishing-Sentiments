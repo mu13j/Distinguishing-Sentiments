{
 "cells": [
  {
   "cell_type": "markdown",
   "metadata": {},
   "source": [
    "# Twitter Account:\n",
    "https://twitter.com/RobBotro\n"
   ]
  },
  {
   "cell_type": "code",
   "execution_count": 2,
   "metadata": {
    "collapsed": true
   },
   "outputs": [],
   "source": [
    "# Dependencies\n",
    "import tweepy\n",
    "import json\n",
    "import numpy as np\n",
    "import pandas as pd\n",
    "import matplotlib.pyplot as plt\n",
    "#Helps title graph\n",
    "import datetime\n",
    "now = datetime.datetime.now()\n",
    "#Format graph to seaborn\n",
    "import seaborn as sns\n",
    "sns.set(color_codes=True)\n",
    "# Import and Initialize Sentiment Analyzer\n",
    "from vaderSentiment.vaderSentiment import SentimentIntensityAnalyzer\n",
    "analyzer = SentimentIntensityAnalyzer()\n",
    "#Store List of Previously Tweeted\n",
    "import pickle\n",
    "with open(\"previousrequests.txt\", \"rb\") as fp:   # Unpickling\n",
    "    previousrequests = pickle.load(fp)\n",
    "# Setup Tweepy API Authentication\n",
    "from config import consumer_key,consumer_secret,access_token,access_token_secret\n",
    "auth = tweepy.OAuthHandler(consumer_key, consumer_secret)\n",
    "auth.set_access_token(access_token, access_token_secret)\n",
    "api = tweepy.API(auth, parser=tweepy.parsers.JSONParser())\n"
   ]
  },
  {
   "cell_type": "code",
   "execution_count": 159,
   "metadata": {
    "collapsed": true
   },
   "outputs": [],
   "source": [
    "#Get list of requests\n",
    "c=api.mentions_timeline(count=500)\n",
    "requests=[]\n",
    "users=[]\n",
    "for tweets in c:\n",
    "    try:\n",
    "        x,y,z=c[c.index(tweets)]['text'].split('@')\n",
    "        z='@'+z\n",
    "        if z.lower() not in previousrequests and tweets['user']['screen_name']!='RobBotro':\n",
    "            previousrequests.append(z)\n",
    "            x,y,z=c[c.index(tweets)]['text'].split('@')\n",
    "            z='@'+z\n",
    "            requests.append(z)\n",
    "            users.append(tweets['user']['screen_name'])\n",
    "    except:\n",
    "        break"
   ]
  },
  {
   "cell_type": "code",
   "execution_count": 139,
   "metadata": {
    "collapsed": true
   },
   "outputs": [],
   "source": [
    "#Make graph and tweet it out\n",
    "for user in requests:\n",
    "    # Loop through 5 pages of tweets (total 100 tweets)\n",
    "    compound_list=[]\n",
    "    for x in range(1,6):\n",
    "        \n",
    "        # Get all tweets from home feed\n",
    "        public_tweets = api.user_timeline(user, page=x)\n",
    "\n",
    "        # Loop through all tweets\n",
    "        for tweet in public_tweets:\n",
    "            compound_list.append(analyzer.polarity_scores(tweet[\"text\"])[\"compound\"])\n",
    "    plt.scatter([i for i in range(len(compound_list))],compound_list)\n",
    "    plt.plot([i for i in range(len(compound_list))],compound_list)\n",
    "    plt.ylabel('Tweet Polarity')\n",
    "    plt.xlabel('Tweets Ago')\n",
    "    plt.xlim(103, -3)\n",
    "    plt.title(f'Sentiment Analysis of Tweets of {user} ' + now.strftime(\"%Y-%m-%d\"))    \n",
    "\n",
    "    plt.savefig('graph.jpg')\n",
    "    api.update_with_media(\"graph.jpg\",\n",
    "                      f\"New Tweet Analysis: {user} Thanks @{users[requests.index(user)]}\")\n",
    "    plt.close()\n",
    "    "
   ]
  },
  {
   "cell_type": "code",
   "execution_count": 156,
   "metadata": {
    "collapsed": true
   },
   "outputs": [],
   "source": [
    "#Store list of previous requests\n",
    "with open(\"previousrequests.txt\", \"wb\") as fp:   #Pickling\n",
    "    pickle.dump(previousrequests, fp)"
   ]
  }
 ],
 "metadata": {
  "kernelspec": {
   "display_name": "Python 3",
   "language": "python",
   "name": "python3"
  },
  "language_info": {
   "codemirror_mode": {
    "name": "ipython",
    "version": 3
   },
   "file_extension": ".py",
   "mimetype": "text/x-python",
   "name": "python",
   "nbconvert_exporter": "python",
   "pygments_lexer": "ipython3",
   "version": "3.6.3"
  }
 },
 "nbformat": 4,
 "nbformat_minor": 2
}
